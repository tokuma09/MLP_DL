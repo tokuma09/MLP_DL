{
 "cells": [
  {
   "cell_type": "markdown",
   "metadata": {},
   "source": [
    "# 2章"
   ]
  },
  {
   "cell_type": "code",
   "execution_count": 1,
   "metadata": {},
   "outputs": [],
   "source": [
    "import numpy as np\n",
    "import torch\n",
    "import torch.nn as nn\n",
    "\n",
    "import matplotlib.pyplot as plt\n",
    "import japanize_matplotlib\n",
    "\n",
    "import sys\n",
    "sys.path.append('../src')\n",
    "import activation as act"
   ]
  },
  {
   "cell_type": "markdown",
   "metadata": {},
   "source": [
    "## 2.1 ユニットと活性化関数\n",
    "\n",
    "活性化関数として主に3種類紹介\n",
    "\n",
    "- ReLU: 値域 $[0, \\infty)$\n",
    "  $$\n",
    "  f(x) = \\max \\left\\{0, x\\right\\}\n",
    "  $$\n",
    "  \n",
    "  変種としてPReLU, LeakyReLUがある。 \n",
    "  \n",
    "  どちらも$x < 0$のとき$ax$として出力するが、PReLUは$a$を学習し、LeakyReLUは$a$を定数とする。\n",
    "- sigmoid: 値域 $(0, 1)$\n",
    "  $$\n",
    "  f(x) = \\frac{1}{1+\\exp(-x)}\n",
    "  $$\n",
    "- hyperbolic tangent: 値域 $(-1, 1)$\n",
    "  $$\n",
    "  f(x) = \\frac{\\exp(x) - \\exp(-x)}{\\exp(x) + \\exp(-x)}\n",
    "  $$\n",
    "\n",
    "\n",
    "シグモイドとtanhはどちらも入力の絶対値がおおきくなると、出力が飽和するが、ReLUは入力が正の限り、そうしたことがない。"
   ]
  },
  {
   "cell_type": "code",
   "execution_count": 11,
   "metadata": {},
   "outputs": [],
   "source": [
    "input_list = np.array([-5 + 0.1 * i for i in range(101)])\n",
    "torch_input_list = torch.Tensor(input_list)\n",
    "# make instance\n",
    "# ReLU\n",
    "relu = nn.ReLU()\n",
    "slope = 0.01\n",
    "leakey_relu = nn.LeakyReLU(slope)\n",
    "\n",
    "# sigmoid\n",
    "sigmoid = nn.Sigmoid()\n",
    "\n",
    "# tanh\n",
    "tanh = nn.Tanh()"
   ]
  },
  {
   "cell_type": "code",
   "execution_count": 12,
   "metadata": {},
   "outputs": [],
   "source": [
    "# 出力\n",
    "\n",
    "relu_res = relu(torch_input_list)\n",
    "my_relu_res = act.relu(input_list)\n",
    "\n",
    "leaky_res = leakey_relu(torch_input_list)\n",
    "my_leakly_res = act.leaky_relu(input_list, slope=slope)\n",
    "sig_res = sigmoid(torch_input_list)\n",
    "my_sig_res = act.sigmoid(input_list)\n",
    "\n",
    "tanh_res = tanh(torch_input_list)\n",
    "my_tanh_res = act.tanh(input_list)\n"
   ]
  },
  {
   "cell_type": "code",
   "execution_count": 22,
   "metadata": {},
   "outputs": [
    {
     "data": {
      "image/png": "[encoded data removed]",
      "text/plain": [
       "<Figure size 432x288 with 1 Axes>"
      ]
     },
     "metadata": {
      "needs_background": "light"
     },
     "output_type": "display_data"
    }
   ],
   "source": [
    "alpha = 0.5\n",
    "plt.plot(torch_input_list, relu_res, label = 'ReLU', alpha=alpha, linestyle='solid')\n",
    "plt.plot(torch_input_list, leaky_res, label='leaky', alpha=alpha, linestyle='dotted')\n",
    "plt.plot(torch_input_list, sig_res, label='sigmoid', alpha=alpha, linestyle ='dashed')\n",
    "plt.plot(torch_input_list, tanh_res, label='tanh', alpha=alpha, linestyle='dashdot')\n",
    "plt.ylim([-1.5, 1.5])\n",
    "plt.legend()\n",
    "plt.title('活性化関数の挙動')\n",
    "plt.tight_layout()"
   ]
  },
  {
   "cell_type": "markdown",
   "metadata": {},
   "source": [
    "## 2.2 FFN\n",
    "\n",
    "二値分類のケースで2層のFFNを作成する"
   ]
  },
  {
   "cell_type": "code",
   "execution_count": null,
   "metadata": {},
   "outputs": [],
   "source": [
    "class TwoLayer(nn.Module):\n",
    "    # TwoLayer Model for Binary classification\n",
    "    def __init__(self, input_dim, hidden_dim, output_dim):\n",
    "        super().__init__()\n",
    "        self.l1 = nn.Linear(input_dim, hidden_dim)\n",
    "        self.a1 = nn.ReLU()  # ReLU\n",
    "        self.l2 = nn.Linear(hidden_dim, output_dim)\n",
    "        self.a2 = nn.Sigmoid()\n",
    "\n",
    "        self.layers = [self.l1, self.a1, self.l2, self.a2]\n",
    "\n",
    "    def forward(self, x):\n",
    "\n",
    "        for layer in self.layers:\n",
    "            x = layer(x)\n",
    "\n",
    "        return x\n"
   ]
  }
 ],
 "metadata": {
  "interpreter": {
   "hash": "f86c6316b1ff27e9e9de0afa9c4cf47991f7c36d14da4179bd4bd3729d2ab781"
  },
  "kernelspec": {
   "display_name": "Python 3.9.10 64-bit ('venv': venv)",
   "language": "python",
   "name": "python3"
  },
  "language_info": {
   "codemirror_mode": {
    "name": "ipython",
    "version": 3
   },
   "file_extension": ".py",
   "mimetype": "text/x-python",
   "name": "python",
   "nbconvert_exporter": "python",
   "pygments_lexer": "ipython3",
   "version": "3.9.10"
  },
  "orig_nbformat": 4
 },
 "nbformat": 4,
 "nbformat_minor": 2
}
